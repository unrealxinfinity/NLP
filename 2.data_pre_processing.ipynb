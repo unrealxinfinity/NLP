{
 "cells": [
  {
   "cell_type": "markdown",
   "metadata": {},
   "source": [
    "### Running the previous step in the pipeline: Importing the dataset."
   ]
  },
  {
   "cell_type": "code",
   "execution_count": 8,
   "metadata": {},
   "outputs": [
    {
     "name": "stdout",
     "output_type": "stream",
     "text": [
      "DatasetDict({\n",
      "    train: Dataset({\n",
      "        features: ['text', 'label', 'source', 'reasoning'],\n",
      "        num_rows: 80000\n",
      "    })\n",
      "    validation: Dataset({\n",
      "        features: ['text', 'label', 'source', 'reasoning'],\n",
      "        num_rows: 10000\n",
      "    })\n",
      "    test: Dataset({\n",
      "        features: ['text', 'label', 'source', 'reasoning'],\n",
      "        num_rows: 10200\n",
      "    })\n",
      "})\n",
      "{'text': \"Your flight has been rescheduled for 10:00 AM tomorrow. Please check the airport's website for any updates or changes.\", 'label': 'neutral', 'source': 'meta-llama/Meta-Llama-3.1-8B-Instruct', 'reasoning': 'This text would be classified as \"neutral\" because it provides factual information about the flight reschedule without any emotional undertones or attempts at politeness. The tone is impersonal and focused solely on conveying the necessary details.'}\n",
      "{'text': 'I appreciate your interest in our vegetarian options. I can provide you with a list of our current dishes that cater to your dietary preferences.', 'label': 'somewhat polite', 'source': 'meta-llama/Meta-Llama-3.1-8B-Instruct', 'reasoning': \"This text is somewhat polite because it acknowledges the customer's interest and shows a basic level of respect by offering assistance. The tone is direct and lacks additional warmth or formality, but it communicates a willingness to help by providing the requested information.\"}\n",
      "{'text': \"Are you seriously complaining about the tour not being exactly as described? It's not like we're running a five-star hotel here, we're just a local guide service. Get over it.\", 'label': 'impolite', 'source': 'meta-llama/Meta-Llama-3.1-8B-Instruct', 'reasoning': 'This text is impolite because it uses a condescending tone and dismissive language, such as \"Get over it.\" The phrase \"not like we\\'re running a five-star hotel here\" is also belittling and unprofessional, showing a lack of consideration for the customer\\'s feelings.'}\n"
     ]
    }
   ],
   "source": [
    "%run ./1.importing_dataset.ipynb"
   ]
  },
  {
   "cell_type": "markdown",
   "metadata": {},
   "source": [
    "## **Extracting text corpus**\n",
    "##### We have to extract the text from the documents in te dataset so we can use different representations to operate on.\n",
    "##### Note that this is an unclean version of the corpus"
   ]
  },
  {
   "cell_type": "code",
   "execution_count": 11,
   "metadata": {},
   "outputs": [
    {
     "name": "stdout",
     "output_type": "stream",
     "text": [
      "[\"Your flight has been rescheduled for 10:00 AM tomorrow. Please check the airport's website for any updates or changes.\", \"We're happy to accommodate your dietary preferences. Our vegetarian options are carefully crafted to ensure a delicious and satisfying meal. Would you like me to recommend some dishes that fit your needs?\", 'Our vegetarian options are available on the menu, and our chef can modify any dish to suit your dietary needs.', \"I understand your frustration with the recent tournament results, and I'll review the standings to see what we can do to improve your experience.\", \"I'll do my best to find a suitable replacement for the item you're looking for, but I need to know more about what you're looking for.\"]\n"
     ]
    }
   ],
   "source": [
    "unclean_corpus = []\n",
    "unclean_corpus = [text for text in training_set[\"text\"]]\n",
    "print(unclean_corpus[0:5])"
   ]
  },
  {
   "cell_type": "markdown",
   "metadata": {},
   "source": [
    "## **Cleaning the text corpus**\n",
    "##### Now we need to process the unclean text corpus, by performing actions such as:\n",
    "- ##### Removing punctuation;\n",
    "- ##### Lower case folding;\n",
    "- ##### Stemming (using PorterStemmer);\n",
    "- ##### Removing Stop Words (optional);\n",
    "##### For that effect we will import [regular expression](https://docs.python.org/3/library/re.html) library and [nltk](https://www.nltk.org/api/nltk.html)"
   ]
  },
  {
   "cell_type": "code",
   "execution_count": 14,
   "metadata": {},
   "outputs": [
    {
     "name": "stderr",
     "output_type": "stream",
     "text": [
      "[nltk_data] Downloading package stopwords to\n",
      "[nltk_data]     /Users/magicojayz/nltk_data...\n",
      "[nltk_data]   Package stopwords is already up-to-date!\n"
     ]
    },
    {
     "name": "stdout",
     "output_type": "stream",
     "text": [
      "['flight reschedul tomorrow pleas check airport websit updat chang', 'happi accommod dietari prefer vegetarian option care craft ensur delici satisfi meal would like recommend dish fit need', 'vegetarian option avail menu chef modifi dish suit dietari need', 'understand frustrat recent tournament result review stand see improv experi', 'best find suitabl replac item look need know look']\n"
     ]
    }
   ],
   "source": [
    "import nltk;\n",
    "nltk.download('stopwords')\n",
    "import re;\n",
    "from nltk.corpus import stopwords;\n",
    "from nltk.stem.porter import PorterStemmer;\n",
    "\n",
    "ps = PorterStemmer();\n",
    "sw = stopwords.words('english');\n",
    "clean_corpus = []\n",
    "for i in range(0,len(unclean_corpus)):\n",
    "    text = re.sub('[^a-zA-Z]', ' ', unclean_corpus[i]);\n",
    "    text = text.lower();\n",
    "    text = [ps.stem(word) for word in text.split() if not word in sw];  \n",
    "    text = ' '.join(text);\n",
    "    clean_corpus.append(text);  \n",
    "print(clean_corpus[0:5]);"
   ]
  }
 ],
 "metadata": {
  "kernelspec": {
   "display_name": "base",
   "language": "python",
   "name": "python3"
  },
  "language_info": {
   "codemirror_mode": {
    "name": "ipython",
    "version": 3
   },
   "file_extension": ".py",
   "mimetype": "text/x-python",
   "name": "python",
   "nbconvert_exporter": "python",
   "pygments_lexer": "ipython3",
   "version": "3.11.5"
  }
 },
 "nbformat": 4,
 "nbformat_minor": 2
}
