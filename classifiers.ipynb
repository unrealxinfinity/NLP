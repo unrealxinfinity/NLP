{
 "cells": [
  {
   "cell_type": "markdown",
   "metadata": {},
   "source": [
    "# Using different Classifiers for our task\n",
    "### In this notebook, we will train and use different classifiers to complete our task of identifying impolite and polite texts.\n",
    "### We will start by executing all of our pre-processing tasks in the \"data_pre_processing.ipynb\" notebook using a libraries for executing and converting notebooks **\"nbformat\"** and **\"nbconvert\"**."
   ]
  },
  {
   "cell_type": "code",
   "execution_count": null,
   "metadata": {},
   "outputs": [],
   "source": [
    "import nbformat\n",
    "from nbconvert.preprocessors import ExecutePreprocessor\n",
    "\n",
    "# Function to execute a notebook and return the variables\n",
    "def execute_notebook(notebook_filename):\n",
    "    with open(notebook_filename) as f:\n",
    "        notebook = nbformat.read(f, as_version=4)\n",
    "    \n",
    "    ep = ExecutePreprocessor(timeout=600, kernel_name='python3')\n",
    "    ep.preprocess(notebook, {'metadata': {'path': './'}})\n",
    "    \n",
    "    # Extract the variables from the notebook's last cell\n",
    "    variables = {}\n",
    "    for cell in notebook.cells:\n",
    "        if cell.cell_type == 'code':\n",
    "            exec(cell.source, variables)\n",
    "    \n",
    "    return variables\n",
    "\n",
    "\n",
    "# Execute each notebook and store the variables\n",
    "vars = execute_notebook(\"data_pre_processing.ipynb\")\n"
   ]
  }
 ],
 "metadata": {
  "kernelspec": {
   "display_name": "Python 3",
   "language": "python",
   "name": "python3"
  },
  "language_info": {
   "codemirror_mode": {
    "name": "ipython",
    "version": 3
   },
   "file_extension": ".py",
   "mimetype": "text/x-python",
   "name": "python",
   "nbconvert_exporter": "python",
   "pygments_lexer": "ipython3",
   "version": "3.10.12"
  }
 },
 "nbformat": 4,
 "nbformat_minor": 2
}
