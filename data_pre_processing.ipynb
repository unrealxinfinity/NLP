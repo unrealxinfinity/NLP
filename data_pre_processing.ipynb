{
 "cells": [
  {
   "cell_type": "markdown",
   "metadata": {},
   "source": [
    "# Natural Language Processing First Assignment\n",
    "#### This is the notebook for the first assignment about the dataset **\"Polite Guard\"**. The objective of this work is to come up with a pipeline that builds a robust and good model for text classification\n",
    "#### The following dependencies are needed:\n",
    "`\n",
    "pip install datasets pandas nltk scikit-learn wordcloud matplotlib gensim\n",
    "`"
   ]
  },
  {
   "cell_type": "markdown",
   "metadata": {},
   "source": [
    "## **Importing the dataset**\n",
    "##### The first step is to import the dataset we are using, directly from the library provided by Hugging Face. The original dataset already split test and training data, as well as validation data.\n"
   ]
  },
  {
   "cell_type": "code",
   "execution_count": 2,
   "metadata": {},
   "outputs": [
    {
     "name": "stderr",
     "output_type": "stream",
     "text": [
      "/home/joca/miniconda3/lib/python3.12/site-packages/tqdm/auto.py:21: TqdmWarning: IProgress not found. Please update jupyter and ipywidgets. See https://ipywidgets.readthedocs.io/en/stable/user_install.html\n",
      "  from .autonotebook import tqdm as notebook_tqdm\n"
     ]
    },
    {
     "name": "stdout",
     "output_type": "stream",
     "text": [
      "DatasetDict({\n",
      "    train: Dataset({\n",
      "        features: ['text', 'label', 'source', 'reasoning'],\n",
      "        num_rows: 80000\n",
      "    })\n",
      "    validation: Dataset({\n",
      "        features: ['text', 'label', 'source', 'reasoning'],\n",
      "        num_rows: 10000\n",
      "    })\n",
      "    test: Dataset({\n",
      "        features: ['text', 'label', 'source', 'reasoning'],\n",
      "        num_rows: 10200\n",
      "    })\n",
      "})\n",
      "                                                text            label  \\\n",
      "0  Your flight has been rescheduled for 10:00 AM ...          neutral   \n",
      "1  We're happy to accommodate your dietary prefer...           polite   \n",
      "2  Our vegetarian options are available on the me...          neutral   \n",
      "3  I understand your frustration with the recent ...  somewhat polite   \n",
      "4  I'll do my best to find a suitable replacement...  somewhat polite   \n",
      "\n",
      "                                  source  \\\n",
      "0  meta-llama/Meta-Llama-3.1-8B-Instruct   \n",
      "1  meta-llama/Meta-Llama-3.1-8B-Instruct   \n",
      "2  meta-llama/Meta-Llama-3.1-8B-Instruct   \n",
      "3  meta-llama/Meta-Llama-3.1-8B-Instruct   \n",
      "4  meta-llama/Meta-Llama-3.1-8B-Instruct   \n",
      "\n",
      "                                           reasoning  \n",
      "0  This text would be classified as \"neutral\" bec...  \n",
      "1  This text is polite because it expresses grati...  \n",
      "2  This text would be classified as \"neutral\" bec...  \n",
      "3  This text would be classified as \"somewhat pol...  \n",
      "4  This text would be classified as \"somewhat pol...  \n",
      "                                                text            label  \\\n",
      "0  I appreciate your interest in our vegetarian o...  somewhat polite   \n",
      "1  I understand you're concerned about the ski le...  somewhat polite   \n",
      "2  Our technical skills course will cover the ess...          neutral   \n",
      "3  Our buffet hours are from 11 AM to 9 PM. Pleas...          neutral   \n",
      "4  I'll look into your policy details and see wha...  somewhat polite   \n",
      "\n",
      "                                  source  \\\n",
      "0  meta-llama/Meta-Llama-3.1-8B-Instruct   \n",
      "1  meta-llama/Meta-Llama-3.1-8B-Instruct   \n",
      "2  meta-llama/Meta-Llama-3.1-8B-Instruct   \n",
      "3  meta-llama/Meta-Llama-3.1-8B-Instruct   \n",
      "4  meta-llama/Meta-Llama-3.1-8B-Instruct   \n",
      "\n",
      "                                           reasoning  \n",
      "0  This text is somewhat polite because it acknow...  \n",
      "1  This text would be classified as \"somewhat pol...  \n",
      "2  This text would be classified as \"neutral\" bec...  \n",
      "3  This text would be classified as \"neutral\" bec...  \n",
      "4  This text would be classified as \"somewhat pol...  \n",
      "                                                text     label  \\\n",
      "0  Are you seriously complaining about the tour n...  impolite   \n",
      "1  Are you seriously complaining about the delay ...  impolite   \n",
      "2  We're happy to accommodate your dietary needs....    polite   \n",
      "3  I appreciate your question about our fees. We ...    polite   \n",
      "4  We appreciate your trust in our banking servic...    polite   \n",
      "\n",
      "                                  source  \\\n",
      "0  meta-llama/Meta-Llama-3.1-8B-Instruct   \n",
      "1  meta-llama/Meta-Llama-3.1-8B-Instruct   \n",
      "2  meta-llama/Meta-Llama-3.1-8B-Instruct   \n",
      "3  meta-llama/Meta-Llama-3.1-8B-Instruct   \n",
      "4  meta-llama/Meta-Llama-3.1-8B-Instruct   \n",
      "\n",
      "                                           reasoning  \n",
      "0  This text is impolite because it uses a condes...  \n",
      "1  This text is impolite because it uses a confro...  \n",
      "2  This text is polite because it shows a willing...  \n",
      "3  This text is polite because it shows appreciat...  \n",
      "4  This text is polite because it expresses grati...  \n"
     ]
    }
   ],
   "source": [
    "import pandas as pd;\n",
    "from datasets import load_dataset\n",
    "\n",
    "dataset = load_dataset(\"Intel/polite-guard\");\n",
    "print(dataset);\n",
    "\n",
    "training_set = pd.DataFrame.from_dict(dataset['train']);\n",
    "test_set = pd.DataFrame.from_dict(dataset['test']);\n",
    "validation_set = pd.DataFrame.from_dict(dataset['validation']);\n",
    "\n",
    "print(training_set.head());\\\n",
    "print(test_set.head());\n",
    "print(validation_set.head());\n",
    "\n"
   ]
  },
  {
   "cell_type": "markdown",
   "metadata": {},
   "source": [
    "##### The text corpuses are mainly about different types of language in terms of formality, the label to be classified is if the corpus is a polite or impolite. **There are 4 classes which are \"impolite\" , \"neutral\" , \"somewhat polite\" and \"polite\"**\n",
    "##### There are four features of the dataset which are:\n",
    "- ##### **text** - actual text corpus;\n",
    "- ##### **label** - class label to identify text formality;\n",
    "- ##### **reasoning** - why it was labeled as that class;\n",
    "- ##### **source** - source of the text;\n",
    "##### The majority of the dataset were **result of prompting using different synthesis techniques**, including only 200 annotated real-life examples from corporate training.\n",
    "##### The prompting techniques used: \n",
    "- ##### 50,000 samples generated using Few-Shot prompting\n",
    "- ##### 50,000 samples generated using Chain-of-Thought (CoT) prompting\n",
    "- ##### 200 annotated samples from corporate trainings; \n",
    "##### The test/train/validation split was done as follows:\n",
    "- ##### **80k rows for training**;\n",
    "- ##### **20k rows for testing**;\n",
    "- ##### **remaining rows for validation (200 annotated samples)**;"
   ]
  },
  {
   "cell_type": "markdown",
   "metadata": {},
   "source": [
    "## **Extracting text corpus**\n",
    "##### We have to extract the text from the documents in te dataset so we can use different representations to operate on.\n",
    "##### Note that this is an unclean version of the corpus"
   ]
  },
  {
   "cell_type": "code",
   "execution_count": 3,
   "metadata": {},
   "outputs": [
    {
     "name": "stdout",
     "output_type": "stream",
     "text": [
      "[\"Your flight has been rescheduled for 10:00 AM tomorrow. Please check the airport's website for any updates or changes.\", \"We're happy to accommodate your dietary preferences. Our vegetarian options are carefully crafted to ensure a delicious and satisfying meal. Would you like me to recommend some dishes that fit your needs?\", 'Our vegetarian options are available on the menu, and our chef can modify any dish to suit your dietary needs.', \"I understand your frustration with the recent tournament results, and I'll review the standings to see what we can do to improve your experience.\", \"I'll do my best to find a suitable replacement for the item you're looking for, but I need to know more about what you're looking for.\"]\n"
     ]
    }
   ],
   "source": [
    "unclean_corpus = []\n",
    "for i in range(0, len(training_set[\"text\"])):\n",
    "    unclean_corpus.append(training_set['text'][i]);\n",
    "print(unclean_corpus[0:5]);"
   ]
  },
  {
   "cell_type": "markdown",
   "metadata": {},
   "source": [
    "## **Cleaning the text corpus**\n",
    "##### Now we need to process the unclean text corpus, by performing actions such as:\n",
    "- ##### Removing punctuation;\n",
    "- ##### Lower case folding;\n",
    "- ##### Stemming (using PorterStemmer);\n",
    "- ##### Removing Stop Words (optional);\n",
    "##### For that effect we will import [regular expression](https://docs.python.org/3/library/re.html) library and [nltk](https://www.nltk.org/api/nltk.html)"
   ]
  },
  {
   "cell_type": "code",
   "execution_count": 4,
   "metadata": {},
   "outputs": [
    {
     "name": "stderr",
     "output_type": "stream",
     "text": [
      "[nltk_data] Downloading package stopwords to /home/joca/nltk_data...\n",
      "[nltk_data]   Package stopwords is already up-to-date!\n"
     ]
    },
    {
     "name": "stdout",
     "output_type": "stream",
     "text": [
      "['flight reschedul tomorrow pleas check airport websit updat chang', 'happi accommod dietari prefer vegetarian option care craft ensur delici satisfi meal would like recommend dish fit need', 'vegetarian option avail menu chef modifi dish suit dietari need', 'understand frustrat recent tournament result review stand see improv experi', 'best find suitabl replac item look need know look']\n"
     ]
    }
   ],
   "source": [
    "import nltk;\n",
    "nltk.download('stopwords')\n",
    "import re;\n",
    "from nltk.corpus import stopwords;\n",
    "from nltk.stem.porter import PorterStemmer;\n",
    "\n",
    "ps = PorterStemmer();\n",
    "sw = stopwords.words('english');\n",
    "clean_corpus = []\n",
    "for i in range(0,len(unclean_corpus)):\n",
    "    text = re.sub('[^a-zA-Z]', ' ', unclean_corpus[i]);\n",
    "    text = text.lower();\n",
    "\n",
    "    text = [ps.stem(word) for word in text.split() if not word in sw];\n",
    "    text = ' '.join(text);\n",
    "    clean_corpus.append(text);\n",
    "print(clean_corpus[0:5]);"
   ]
  },
  {
   "cell_type": "markdown",
   "metadata": {},
   "source": [
    "## **Updating the Dataframe with unclean corpus clean corpus for comparison**"
   ]
  },
  {
   "cell_type": "code",
   "execution_count": 5,
   "metadata": {},
   "outputs": [],
   "source": [
    "training_set[\"clean_text\"] = clean_corpus;"
   ]
  },
  {
   "cell_type": "markdown",
   "metadata": {},
   "source": [
    "## **Representing the corpus in different models**\n",
    "##### Now that we have cleaned documents from our dataset, it's time to represent them in different textual representations so we can use them to train our model.\n",
    "#### **You might want to comment the blocks of code of the Space Representation Models section due to its sparity and they might be too inefficient due to the large dataset size.**\n",
    "#### **Some computers might not meet the hardware requirements to store these sparce vectors. So comment if you think your computer can't handle it for the feature space of < 9000 columns and dataset of 80k rows**"
   ]
  },
  {
   "cell_type": "markdown",
   "metadata": {},
   "source": [
    "## **Sparce representation models**\n",
    "#### We are working mainly with 3 sparse representational models:\n",
    "- #### **Bag of Words**;\n",
    "- #### **1-Hot vector**;\n",
    "- #### **Tf-Idf vector**;"
   ]
  },
  {
   "cell_type": "markdown",
   "metadata": {},
   "source": [
    "### First representation model is **Bag of Words**"
   ]
  },
  {
   "cell_type": "code",
   "execution_count": 4,
   "metadata": {},
   "outputs": [
    {
     "name": "stdout",
     "output_type": "stream",
     "text": [
      "Cleaned text (80000, 4981)\n"
     ]
    }
   ],
   "source": [
    "\n",
    "from sklearn.feature_extraction.text import CountVectorizer;\n",
    "import numpy as np;\n",
    "\n",
    "# print all the array content\n",
    "np.set_printoptions(threshold=np.inf)\n",
    "\n",
    "cv = CountVectorizer();\n",
    "\n",
    "BoW = cv.fit_transform(clean_corpus).toarray();\n",
    "print(\"Cleaned text\", BoW.shape);\n",
    "\n",
    "\n",
    "#print(cv.get_feature_names_out());\n",
    "\n",
    "#print(BoW[0]);"
   ]
  },
  {
   "cell_type": "markdown",
   "metadata": {},
   "source": [
    "##### We compared the representation of the unclean and clean version of the corpus as well\n",
    "##### As we can see, the cleaned text reduced the feature size (column number, y of the pair \"(x,y)\" of shape) by a significant amount because we reduced the words to their stem, standardized the capitalization and removed unecessary tokens like punctuation.\n",
    "##### This increases the model performance by eliminating unecessary repetitions.\n"
   ]
  },
  {
   "cell_type": "code",
   "execution_count": null,
   "metadata": {},
   "outputs": [
    {
     "data": {
      "text/plain": [
       "'cv_unclean = CountVectorizer();\\nBow_unclean = cv_unclean.fit_transform(unclean_corpus).toarray();\\nprint(\"Unclean text\",Bow_unclean.shape);\\nprint(\"Cleaned text\", BoW.shape);\\n'"
      ]
     },
     "execution_count": 7,
     "metadata": {},
     "output_type": "execute_result"
    }
   ],
   "source": [
    "\n",
    "cv_unclean = CountVectorizer();\n",
    "Bow_unclean = cv_unclean.fit_transform(unclean_corpus).toarray();\n",
    "print(\"Unclean text\",Bow_unclean.shape);\n",
    "print(\"Cleaned text\", BoW.shape);\n",
    "\n"
   ]
  },
  {
   "cell_type": "markdown",
   "metadata": {},
   "source": [
    "#### We can also plot a **wordcloud** using the representation (although it only uses the text corpus to count and not the vectorizer) respectively for:\n",
    "- #### Unclean text;\n",
    "- #### Clean text;"
   ]
  },
  {
   "cell_type": "code",
   "execution_count": null,
   "metadata": {},
   "outputs": [
    {
     "data": {
      "text/plain": [
       "'\\nwordcloud_unclean = wordcloud.WordCloud(width = 800, height = 800, background_color = \\'white\\', stopwords = sw, min_font_size = 10).generate(\" \".join(unclean_corpus));\\nplt.figure(figsize = (8, 8), facecolor = None);\\nplt.imshow(wordcloud_unclean);\\nplt.axis(\"off\");\\nplt.tight_layout(pad = 0);\\nprint(\"Word Cloud for unclean corpus\");\\nplt.show();\\n\\nwordcloud_clean = wordcloud.WordCloud(width = 800, height = 800, background_color = \\'white\\', stopwords = sw, min_font_size = 10).generate(\" \".join(clean_corpus));\\nplt.figure(figsize = (8, 8), facecolor = None);\\nplt.imshow(wordcloud_clean);\\nplt.axis(\"off\");\\nplt.tight_layout(pad = 0);\\nprint(\"Word Cloud for clean corpus\");\\nplt.show();'"
      ]
     },
     "execution_count": 8,
     "metadata": {},
     "output_type": "execute_result"
    }
   ],
   "source": [
    "import wordcloud;\n",
    "import matplotlib.pyplot as plt;\n",
    "\n",
    "\n",
    "\"\"\"wordcloud_unclean = wordcloud.WordCloud(width = 800, height = 800, background_color = 'white', stopwords = sw, min_font_size = 10).generate(\" \".join(unclean_corpus));\n",
    "plt.figure(figsize = (8, 8), facecolor = None);\n",
    "plt.imshow(wordcloud_unclean);\n",
    "plt.axis(\"off\");\n",
    "plt.tight_layout(pad = 0);\n",
    "print(\"Word Cloud for unclean corpus\");\n",
    "plt.show();\n",
    "\n",
    "wordcloud_clean = wordcloud.WordCloud(width = 800, height = 800, background_color = 'white', stopwords = sw, min_font_size = 10).generate(\" \".join(clean_corpus));\n",
    "plt.figure(figsize = (8, 8), facecolor = None);\n",
    "plt.imshow(wordcloud_clean);\n",
    "plt.axis(\"off\");\n",
    "plt.tight_layout(pad = 0);\n",
    "print(\"Word Cloud for clean corpus\");\n",
    "plt.show();\n",
    "\"\"\"\n"
   ]
  },
  {
   "cell_type": "markdown",
   "metadata": {},
   "source": [
    "#### One noticeable difference is that some of the most common words like \"help\", \"question\" or \"appreciate\" were diminished, mainly because other words that were scattered in different forms in the unclean text were reduced to a common stem and a common standard so those words stand out more like \"provid\" \"hear\" and so on, because their counts increased. "
   ]
  },
  {
   "cell_type": "markdown",
   "metadata": {},
   "source": [
    "### Second representation model is **1-Hot vector**\n",
    "##### This representation is basically Bag of Words but without counts, only a binary number indicating if the word exists or not accross the documents."
   ]
  },
  {
   "cell_type": "code",
   "execution_count": 9,
   "metadata": {},
   "outputs": [
    {
     "name": "stdout",
     "output_type": "stream",
     "text": [
      "(80000, 4981)\n",
      "(80000, 8532)\n"
     ]
    }
   ],
   "source": [
    "\n",
    "binary_vectorizer = CountVectorizer(binary=True);\n",
    "one_hot_clean = binary_vectorizer.fit_transform(clean_corpus);\n",
    "print(one_hot_clean.shape);\n",
    "\n",
    "#print(one_hot_clean[0]);\n",
    "binary_vectorizer_unclean = CountVectorizer(binary=True);\n",
    "one_hot_unclean = binary_vectorizer.fit_transform(unclean_corpus);\n",
    "print(one_hot_unclean.shape);\n"
   ]
  },
  {
   "cell_type": "markdown",
   "metadata": {},
   "source": [
    "### Third representation is **TF-IDF**\n",
    "##### This is a measure that takes into account the discriminative power of the words (repetitions of a word accross documents/text or power of a word to distinguish the document content) from the vocabulary considering all the documents(our texts), by assigning a weight to each of the terms of the vocabulary.\n",
    "##### **TF** stands for Term Frequency and is the total frequency that a word appears considering all the documents;\n",
    "##### **DF** stands for Document Frequency and it measures the number of documents that have a certain word. The higher the more frequent is a word accross all the documents (bad thing -> low discriminative power);\n",
    "##### **IDF** stands for Inverse Document Frequency and the inverse of the DF. Higher means rarer the word is accross all the documents (good thing -> high discriminative power).\n",
    "##### **TF-IDF** is a measure that is the product of **TF** and **IDF**:\n",
    "- ##### Highest when t occurs many times within a small number of documents (A);\n",
    "- ##### Lower when the term occurs fewer times in a document, or occurs in many documents (B);\n",
    "- ##### Lowest when the term occurs in virtually all documents (C)."
   ]
  },
  {
   "cell_type": "code",
   "execution_count": 10,
   "metadata": {},
   "outputs": [
    {
     "name": "stdout",
     "output_type": "stream",
     "text": [
      "TfIdf unclean (80000, 8532)\n",
      "TfIdf clean (80000, 4981)\n"
     ]
    }
   ],
   "source": [
    "from sklearn.feature_extraction.text import TfidfVectorizer;\n",
    "\n",
    "TfIdf_vectorizer_unclean = TfidfVectorizer();\n",
    "Tf_idf_unclean = TfIdf_vectorizer_unclean.fit_transform(unclean_corpus).toarray();\n",
    "features_unclean = TfIdf_vectorizer_unclean.get_feature_names_out();\n",
    "print(\"TfIdf unclean\",Tf_idf_unclean.shape)\n",
    "\n",
    "TfIdf_vectorizer = TfidfVectorizer();\n",
    "Tf_Idf = TfIdf_vectorizer.fit_transform(clean_corpus).toarray();\n",
    "features_clean = TfIdf_vectorizer.get_feature_names_out();\n",
    "print(\"TfIdf clean\", Tf_Idf.shape);\n",
    "#print(Tf_Idf[0]);\n"
   ]
  },
  {
   "cell_type": "markdown",
   "metadata": {},
   "source": [
    "#### We can plot a word cloud to see the distribution of the words for the clean and unclean corpus according to their weight and importance, with Tf-Idf representation:"
   ]
  },
  {
   "cell_type": "code",
   "execution_count": null,
   "metadata": {},
   "outputs": [
    {
     "data": {
      "text/plain": [
       "'word_count = dict()\\nfor i in range(0,len(clean_corpus)):\\n    for feature in range(0,len(features_clean)):\\n        word_count[features_clean[feature]] = word_count.get(features_clean[feature],0) + Tf_Idf[i][feature]\\n\\nwordcloud_tfidf_clean = wordcloud.WordCloud(width = 800, height = 800, background_color = \\'white\\', min_font_size = 10).generate_from_frequencies(word_count);\\nplt.figure(figsize = (8, 8), facecolor = None);\\nplt.imshow(wordcloud_tfidf_clean);\\nplt.axis(\"off\");\\nplt.tight_layout(pad = 0);\\nprint(\"Word Cloud for clean corpus\");\\nplt.show();\\n\\n#dict for unclean wordcount\\nword_count_unclean = dict()\\nfor i in range(0,len(unclean_corpus)):\\n    for feature in range(0,len(features_unclean)):\\n        word_count_unclean[features_unclean[feature]] = word_count_unclean.get(features_unclean[feature],0) + Tf_idf_unclean[i][feature];\\n\\nwordcloud_tfidf_unclean = wordcloud.WordCloud(width = 800, height = 800, background_color = \\'white\\', min_font_size = 10).generate_from_frequencies(word_count_unclean);\\nplt.imshow(wordcloud_tfidf_unclean);\\nplt.axis(\"off\");\\nplt.tight_layout(pad = 0);\\nprint(\"Word Cloud for unclean corpus\");\\nplt.show();'"
      ]
     },
     "execution_count": 11,
     "metadata": {},
     "output_type": "execute_result"
    }
   ],
   "source": [
    "# dictionary to sum the weights of each unique word for the clean corpus\n",
    "\"\"\"word_count = dict()\n",
    "for i in range(0,len(clean_corpus)):\n",
    "    for feature in range(0,len(features_clean)):\n",
    "        word_count[features_clean[feature]] = word_count.get(features_clean[feature],0) + Tf_Idf[i][feature]\n",
    "\n",
    "wordcloud_tfidf_clean = wordcloud.WordCloud(width = 800, height = 800, background_color = 'white', min_font_size = 10).generate_from_frequencies(word_count);\n",
    "plt.figure(figsize = (8, 8), facecolor = None);\n",
    "plt.imshow(wordcloud_tfidf_clean);\n",
    "plt.axis(\"off\");\n",
    "plt.tight_layout(pad = 0);\n",
    "print(\"Word Cloud for clean corpus\");\n",
    "plt.show();\n",
    "\n",
    "#dict for unclean wordcount\n",
    "word_count_unclean = dict()\n",
    "for i in range(0,len(unclean_corpus)):\n",
    "    for feature in range(0,len(features_unclean)):\n",
    "        word_count_unclean[features_unclean[feature]] = word_count_unclean.get(features_unclean[feature],0) + Tf_idf_unclean[i][feature];\n",
    "\n",
    "wordcloud_tfidf_unclean = wordcloud.WordCloud(width = 800, height = 800, background_color = 'white', min_font_size = 10).generate_from_frequencies(word_count_unclean);\n",
    "plt.imshow(wordcloud_tfidf_unclean);\n",
    "plt.axis(\"off\");\n",
    "plt.tight_layout(pad = 0);\n",
    "print(\"Word Cloud for unclean corpus\");\n",
    "plt.show();\"\"\""
   ]
  },
  {
   "cell_type": "markdown",
   "metadata": {},
   "source": [
    "##### As we predicted, the stop words took over the entire word cloud in the unclean dataset. These occur the most and give us the least information about a document fulliling the condition (C) presented in the block above.\n",
    "##### As for the clean version of the text corpus, words like \"like\" and \"help\" are most likely filling the condition (B), since they are often repeated and common in many documents in the dataset,"
   ]
  },
  {
   "cell_type": "markdown",
   "metadata": {},
   "source": [
    "#### We opted not to use N-grams because the feature space it generates is too big and inefficient given our dataset, taking a toll on the memory."
   ]
  },
  {
   "cell_type": "markdown",
   "metadata": {},
   "source": [
    "## **Beyond sparce representations**"
   ]
  },
  {
   "cell_type": "markdown",
   "metadata": {},
   "source": [
    "#### **The most compatible representation models are dense vectors which reduce the dimensionality by a significant amount. The sparce vector models (all the previous models) waste memory space unecessarily due to their sparsity and due to the size of the dataset it is impossible to run those models in weaker machines.**"
   ]
  },
  {
   "cell_type": "markdown",
   "metadata": {},
   "source": [
    "##### We considered 3 type of **Word Embeddings**:\n",
    "- ##### **Word2Vec**;\n",
    "- ##### **FastText**;\n",
    "- ##### **Doc2Vec**;\n",
    "##### Each of them have pros and cons:\n",
    "- ##### Word2Vec generates a high dimensionality vector taking word or phrases in the document just like Doc2Vec, but Doc2Vec handles larger text corpus (such as paragraphs or phrases) better than the Word2Vec;\n",
    "- ##### FastText handles better subword information, but we are working in terms of word and its semantics, so it would not help this project.\n",
    "##### So we opted using Word2Vec and Doc2Vec for comparison later on.\n"
   ]
  },
  {
   "cell_type": "code",
   "execution_count": 12,
   "metadata": {},
   "outputs": [],
   "source": [
    "from gensim.models import Word2Vec\n",
    "word2vec_embedding_unclean = Word2Vec(sentences = [text.split() for text in unclean_corpus], vector_size = 100, window = 5, min_count = 1, workers = 4);\n",
    "word2vec_embedding_clean = Word2Vec(sentences = [text.split() for text in clean_corpus], vector_size = 100, window = 5, min_count = 1, workers = 4);\n"
   ]
  },
  {
   "cell_type": "code",
   "execution_count": 13,
   "metadata": {},
   "outputs": [
    {
     "name": "stdout",
     "output_type": "stream",
     "text": [
      "[('assist', 0.603486955165863), ('us!', 0.4440895915031433), ('help.', 0.4211559593677521), ('happy', 0.4207528531551361), ('answer', 0.370839387178421), ('frustration', 0.36354950070381165), ('breakdown.', 0.36196860671043396), ('dine', 0.35952529311180115), ('equip', 0.35757073760032654), ('skills!', 0.3474758565425873)]\n",
      "[('assist', 0.6641786694526672), ('happi', 0.48357656598091125), ('regard', 0.46371448040008545), ('appreci', 0.382485032081604), ('suitabl', 0.3544483780860901), ('could', 0.3516518771648407), ('thank', 0.34873515367507935), ('provid', 0.34557434916496277), ('concern', 0.3437007963657379), ('misunderstand', 0.33518511056900024)]\n",
      "[ 1.5878603   1.2657262   1.8720835   5.9696827   0.8129084   3.556547\n",
      "  1.955004    2.075299   -0.24218327 -3.4103074  -0.886991   -1.1192949\n",
      "  3.9783876  -0.12307711  1.2185862  -1.7568572  -0.10450714  1.1549253\n",
      "  0.34915355  0.25248507 -1.4315854   2.2937183   2.7273438   3.4753351\n",
      "  4.864914    3.0474987  -3.680161    0.01723588  0.6998614  -0.24244598\n",
      " -2.1189055  -0.62601435  0.04286939 -2.8902595   0.6211924   0.4936383\n",
      "  3.6209126   0.0805552  -1.5116068   2.0370944   2.0799904  -3.791941\n",
      "  0.41768673 -1.7187321   2.7511091  -0.11697164  1.0566778  -3.0194473\n",
      " -1.1331664  -2.3957398   2.0055132   2.1295202  -0.81233305 -0.2524791\n",
      "  5.102812    0.24975207 -1.5744385  -1.2778684   0.16571262 -0.16256453\n",
      " -2.0705578   0.4255685   1.765898    1.0363702   0.30519065 -1.9354982\n",
      " -0.26638192 -3.5628114  -2.7336626  -1.1037017  -0.18224892  1.0537897\n",
      " -0.31807443  0.93052137 -2.6388445   0.87897366  1.3983465   1.0542967\n",
      "  2.1860027   5.995836   -1.4476748   1.6067154   2.0954065  -3.8216774\n",
      " -2.1465936   0.06458707 -0.01621237 -1.8313475  -2.6675928  -3.2477798\n",
      " -0.33900908 -4.194487    0.33685175 -2.3225207   1.1213505  -2.4882612\n",
      "  2.5997243  -1.2644832   1.237497    2.558453  ]\n",
      "[ 0.65187275  0.71265155  0.6076391   1.1465453  -0.442837    0.4225565\n",
      " -0.72088087 -0.18780287 -0.78029007 -0.15532771  2.2362652   2.641525\n",
      "  0.3386793   1.1111206   1.1195203   3.0224798   0.58791465  0.98590845\n",
      " -1.6440467   0.5638429   0.35596484  0.18924415  1.4893624   0.209882\n",
      " -0.8487994  -2.9664996  -1.5396854  -0.3229289   0.1434707  -0.8310657\n",
      "  2.247309   -0.88035977  1.6154972  -1.3111776  -0.20022511 -0.445967\n",
      "  0.03444039  2.147319    0.20630077  1.09233     1.27858     0.8628998\n",
      "  0.33968988  0.41424915  0.25451833 -0.32283264  0.6227081   1.7756135\n",
      " -0.3321506  -0.4670806   0.15512018 -1.4806432  -0.09739873  2.2131016\n",
      "  0.7402301   0.6991896  -0.2926014  -0.8530439  -0.15124904 -2.8362355\n",
      " -0.8518219   1.6872137  -0.2344866   0.7390514   0.16608088 -0.8862212\n",
      "  2.521341   -1.3906057  -2.6411219   0.34805122  0.81116354 -0.44953144\n",
      "  0.8052699   0.5838648   0.65185565  0.8292718   0.09487622 -0.14834784\n",
      " -1.7700405   0.9948185   0.46504474 -1.3430105   0.9653376  -1.151404\n",
      " -0.832737   -1.307664   -1.1583376  -2.9815671   0.71020925  0.16405888\n",
      " -2.1517384   2.6863313   1.69215    -1.2828392   0.87764627 -0.21331388\n",
      " -0.60945374  1.5483055  -2.2545853   1.0417997 ]\n"
     ]
    }
   ],
   "source": [
    "print(word2vec_embedding_unclean.wv.most_similar('help'));\n",
    "print(word2vec_embedding_clean.wv.most_similar('help'));\n",
    "print(word2vec_embedding_unclean.wv[\"help\"]);\n",
    "print(word2vec_embedding_clean.wv[\"help\"]);"
   ]
  },
  {
   "cell_type": "code",
   "execution_count": 15,
   "metadata": {},
   "outputs": [],
   "source": [
    "from gensim.models.doc2vec import Doc2Vec, TaggedDocument\n",
    "documents_clean = [TaggedDocument(_d, [str(i)]) for i, _d in enumerate(clean_corpus)];\n",
    "documents_unclean = [TaggedDocument(_d, [str(i)]) for i, _d in enumerate(unclean_corpus)];\n",
    "doc2vec_embedding_clean = Doc2Vec(documents_clean, vector_size=5, window=2, min_count=1, workers=4);\n",
    "doc2vec_embedding_unclean = Doc2Vec(documents_unclean, vector_size=5, window=2, min_count=1, workers=4);\n"
   ]
  },
  {
   "cell_type": "code",
   "execution_count": 16,
   "metadata": {},
   "outputs": [
    {
     "name": "stdout",
     "output_type": "stream",
     "text": [
      "[ 0.09844994  0.16044527 -0.06827538  0.24974932 -0.24955748]\n",
      "[ 0.3789468  -0.17187229  0.31064188  0.25234744  0.18799068]\n",
      "[('0', 1.0), ('64705', 0.9993120431900024), ('77702', 0.9989612698554993), ('43417', 0.998917281627655), ('61544', 0.9985052347183228), ('72257', 0.9984327554702759), ('40155', 0.9983757734298706), ('39687', 0.9983441233634949), ('56920', 0.997748851776123), ('72429', 0.9976955056190491)]\n",
      "[('0', 1.0), ('72250', 0.9988866448402405), ('50281', 0.9986846446990967), ('59434', 0.9984309673309326), ('3695', 0.9981375932693481), ('49418', 0.9981303811073303), ('62134', 0.9981284737586975), ('35713', 0.998033344745636), ('46304', 0.9980047345161438), ('63175', 0.9979373812675476)]\n"
     ]
    }
   ],
   "source": [
    "# Vectors of the first document in the clean and unclean corpus\n",
    "print(doc2vec_embedding_clean.dv[0]);\n",
    "print(doc2vec_embedding_unclean.dv[0]);\n",
    "# Finding most similar documents to the first document in the clean corpus\n",
    "print(doc2vec_embedding_clean.dv.most_similar([doc2vec_embedding_clean.dv[0]]))\n",
    "# Finding most similar documents to the first document in the unclean corpus\n",
    "print(doc2vec_embedding_unclean.dv.most_similar([doc2vec_embedding_unclean.dv[0]]))"
   ]
  },
  {
   "cell_type": "markdown",
   "metadata": {},
   "source": [
    "### In summary, the following representational models are what we are going to work with:"
   ]
  },
  {
   "cell_type": "code",
   "execution_count": 23,
   "metadata": {},
   "outputs": [
    {
     "name": "stdout",
     "output_type": "stream",
     "text": [
      "(80000, 4981)\n",
      "(80000, 4981)\n",
      "(80000, 4981)\n",
      "KeyedVectors<vector_size=100, 4989 keys>\n",
      "KeyedVectors<vector_size=5, 80000 keys>\n"
     ]
    }
   ],
   "source": [
    "# BoW\n",
    "print(BoW.shape);\n",
    "# TfIdf\n",
    "print(Tf_Idf.shape);\n",
    "# One Hot\n",
    "print(one_hot_clean.shape);\n",
    "# Word2Vec vocab mapping with vectors\n",
    "print(word2vec_embedding_clean.wv);\n",
    "# Doc2Vec document mapping with vectors\n",
    "print(doc2vec_embedding_clean.dv);"
   ]
  }
 ],
 "metadata": {
  "kernelspec": {
   "display_name": "Python 3",
   "language": "python",
   "name": "python3"
  },
  "language_info": {
   "codemirror_mode": {
    "name": "ipython",
    "version": 3
   },
   "file_extension": ".py",
   "mimetype": "text/x-python",
   "name": "python",
   "nbconvert_exporter": "python",
   "pygments_lexer": "ipython3",
   "version": "3.12.2"
  }
 },
 "nbformat": 4,
 "nbformat_minor": 2
}
